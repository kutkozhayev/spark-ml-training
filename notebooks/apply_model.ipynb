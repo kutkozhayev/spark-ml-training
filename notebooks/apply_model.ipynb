{
 "cells": [
  {
   "cell_type": "code",
   "execution_count": 2,
   "metadata": {},
   "outputs": [],
   "source": [
    "import org.apache.spark.sql.types.{StructType, StringType}\n",
    "import org.apache.spark.ml.{Pipeline, PipelineModel}\n",
    "import org.apache.spark.sql.functions._\n",
    "import org.apache.spark.sql.DataFrame\n"
   ]
  },
  {
   "cell_type": "code",
   "execution_count": 3,
   "metadata": {},
   "outputs": [
    {
     "name": "stdout",
     "output_type": "stream",
     "text": [
      "Current spark version is 2.4.4\n"
     ]
    }
   ],
   "source": [
    "println(s\"Current spark version is ${spark.version}\")"
   ]
  },
  {
   "cell_type": "code",
   "execution_count": 4,
   "metadata": {},
   "outputs": [
    {
     "data": {
      "text/plain": [
       "inputStreamPath = /home/jovyan/data/events-stream\n",
       "modelPath = /home/jovyan/models/spark-ml-model\n",
       "dataSchema = StructType(StructField(tweet,StringType,true))\n",
       "inputDF = [tweet: string]\n"
      ]
     },
     "metadata": {},
     "output_type": "display_data",
     "source": "user"
    },
    {
     "data": {
      "text/plain": [
       "[tweet: string]"
      ]
     },
     "execution_count": 4,
     "metadata": {},
     "output_type": "execute_result"
    }
   ],
   "source": [
    "val inputStreamPath = \"/home/jovyan/data/events-stream\"\n",
    "val modelPath = \"/home/jovyan/models/spark-ml-model\"\n",
    "\n",
    "val dataSchema = new StructType()\n",
    "    .add(\"tweet\", StringType)\n",
    "\n",
    "val inputDF = spark\n",
    "    .readStream\n",
    "    .schema(dataSchema)\n",
    "    .option(\"maxFilesPerTrigger\", 1)\n",
    "    .json(inputStreamPath)"
   ]
  },
  {
   "cell_type": "code",
   "execution_count": 6,
   "metadata": {},
   "outputs": [
    {
     "name": "stdout",
     "output_type": "stream",
     "text": [
      "+--------------------+-------------------+\n",
      "|               tweet|   UDF(probability)|\n",
      "+--------------------+-------------------+\n",
      "|my legs are so so...|0.07567427705414323|\n",
      "|@styromus Wish yo...|0.23807717320972077|\n",
      "|watching this sca...| 0.5928088374098627|\n",
      "|NO VOICE AGAIN TO...|0.38408979291822093|\n",
      "|There's a root ca...| 0.5958417234665274|\n",
      "|YEEEAH the summer...|  0.624923689148646|\n",
      "|Carradine's unfor...| 0.3232311451196779|\n",
      "|watching mod, goi...| 0.5625563664716763|\n",
      "|@xingyified I lik...|  0.429651560957212|\n",
      "|cannot focus on s...|0.06896491326309605|\n",
      "|Omg just wrote a ...|0.44985781092176663|\n",
      "|Not feelin that g...|0.45778129351821517|\n",
      "|And Dumbo!  Who w...|0.20706829666075457|\n",
      "|Off to court, all...|0.47814996877713284|\n",
      "|Using Flash To Ma...|  0.392788401943809|\n",
      "|@kelsifulton Oh, ...| 0.3605018462881331|\n",
      "|i may have teared...| 0.6581674979463231|\n",
      "|Hi aisling. Hope ...| 0.8781822354446156|\n",
      "|@cbran thank you ...| 0.8196981274188472|\n",
      "|@kinggucci803 ain...| 0.4595879116474502|\n",
      "+--------------------+-------------------+\n",
      "only showing top 20 rows\n",
      "\n"
     ]
    },
    {
     "data": {
      "text/plain": [
       "getProbability = UserDefinedFunction(<function1>,DoubleType,Some(List(org.apache.spark.ml.linalg.VectorUDT@3bfc3ba7)))\n",
       "sameModel = pipeline_724336d5ccc6\n"
      ]
     },
     "metadata": {},
     "output_type": "display_data",
     "source": "user"
    },
    {
     "data": {
      "text/plain": [
       "org.apache.spark.sql.execution.streaming.StreamingQueryWrapper@54e7d01e"
      ]
     },
     "execution_count": 6,
     "metadata": {},
     "output_type": "execute_result"
    },
    {
     "name": "stdout",
     "output_type": "stream",
     "text": [
      "+--------------------+-------------------+\n",
      "|               tweet|   UDF(probability)|\n",
      "+--------------------+-------------------+\n",
      "|@faeryqueen07 Swa...|0.39820017692512316|\n",
      "|Spyed Princess An...| 0.3839257937489406|\n",
      "|@AlpineKyle I am ...| 0.2794414230351986|\n",
      "|not taking the ki...|0.20480794401002686|\n",
      "|Leaving the party...|0.38727272602853474|\n",
      "|No results here e...|0.30795408627671916|\n",
      "|Good morning my b...| 0.6993122737217503|\n",
      "|Ahh, download xon...| 0.7607179517127414|\n",
      "|@SuaveNYC - he do...| 0.7426363713791163|\n",
      "|I also found a fa...| 0.7630263215299623|\n",
      "|@DanWarp interest...| 0.5544967006961531|\n",
      "|Summer is coming ...| 0.5221748089307452|\n",
      "|@GametightMike yo...| 0.8475719469080153|\n",
      "|@LukeHoskin but t...| 0.6722394529061536|\n",
      "+--------------------+-------------------+\n",
      "\n",
      "+--------------------+--------------------+\n",
      "|               tweet|    UDF(probability)|\n",
      "+--------------------+--------------------+\n",
      "|@Mr_Kimbalicious ...|  0.5234827949619687|\n",
      "|@deedledeez Dave ...| 0.23196973133792773|\n",
      "|Not sure if we r ...|  0.5421987586065242|\n",
      "|Can you overheat ...|  0.8456914239954313|\n",
      "|i can say that im...|  0.3247637207712491|\n",
      "|@hthrb2 Yeah,but ...| 0.21126548501715867|\n",
      "|@nicki761 you for...|  0.2773478933014715|\n",
      "|is feeling a litt...|0.022026656299346057|\n",
      "|@monabarry I'll t...|  0.6420509277067414|\n",
      "|@oyvind I think t...|  0.6348598404484362|\n",
      "|Although i'm in a...|  0.7861668336640176|\n",
      "|  helloooo everyone |  0.5918899746865751|\n",
      "|@ddlovato so will...|  0.7443042896112305|\n",
      "|@maryk3lly still ...| 0.25616981817742407|\n",
      "|@Bronte1068 hang ...| 0.25063662980941065|\n",
      "|Just finished P90...|   0.647484908754086|\n",
      "+--------------------+--------------------+\n",
      "\n",
      "+--------------------+-------------------+\n",
      "|               tweet|   UDF(probability)|\n",
      "+--------------------+-------------------+\n",
      "|@lizznotliz Crap,...|0.47469611749587715|\n",
      "|@vBSetup That's a...| 0.8090505716840335|\n",
      "|@tommcfly ooft, t...| 0.4497097389386026|\n",
      "|Goin to take a na...| 0.5114924743472743|\n",
      "|    i miss my buddy |0.11099947668548366|\n",
      "|@carryfiasco my s...| 0.6236052368697935|\n",
      "|@evr it helps if ...| 0.5610003038505988|\n",
      "|@JillyBaldo bwwwh...| 0.5558221469284284|\n",
      "|@aaqil4 i was jus...|  0.364949958663025|\n",
      "|My brother is fin...|  0.637921149941971|\n",
      "|I've got 8 Smitch...| 0.2505132590054475|\n",
      "|is falling back i...| 0.9002064935992434|\n",
      "|Well, as exciting...|0.24783423089605033|\n",
      "|@Kimbot1984 Haha....| 0.8020599791537366|\n",
      "|@jojoalexander ig...| 0.4522240720238683|\n",
      "|Still ready for M...|  0.619935620354835|\n",
      "|@3fingaz LOL.. i ...| 0.3034840080709917|\n",
      "|@theclimbx3 Okay ...| 0.6763049688957604|\n",
      "+--------------------+-------------------+\n",
      "\n"
     ]
    }
   ],
   "source": [
    "val getProbability = udf((prediction: org.apache.spark.ml.linalg.Vector) => prediction(1))\n",
    "val sameModel = PipelineModel.load(\"/home/jovyan/models/spark-ml-model\")\n",
    "inputDF.writeStream.foreachBatch { (batchDF: DataFrame, batchId: Long) =>\n",
    "    \n",
    "    sameModel.transform(batchDF).select($\"tweet\",getProbability($\"probability\")).show\n",
    "    \n",
    "}.start()"
   ]
  },
  {
   "cell_type": "code",
   "execution_count": null,
   "metadata": {},
   "outputs": [],
   "source": []
  }
 ],
 "metadata": {
  "kernelspec": {
   "display_name": "Apache Toree - Scala",
   "language": "scala",
   "name": "apache_toree_scala"
  },
  "language_info": {
   "codemirror_mode": "text/x-scala",
   "file_extension": ".scala",
   "mimetype": "text/x-scala",
   "name": "scala",
   "pygments_lexer": "scala",
   "version": "2.11.12"
  }
 },
 "nbformat": 4,
 "nbformat_minor": 4
}
