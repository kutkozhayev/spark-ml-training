{
 "cells": [
  {
   "cell_type": "code",
   "execution_count": 2,
   "metadata": {},
   "outputs": [
    {
     "name": "stdout",
     "output_type": "stream",
     "text": [
      "Current spark version is 2.4.3\n"
     ]
    }
   ],
   "source": [
    "println(s\"Current spark version is ${spark.version}\")"
   ]
  },
  {
   "cell_type": "code",
   "execution_count": 5,
   "metadata": {},
   "outputs": [
    {
     "name": "stdout",
     "output_type": "stream",
     "text": [
      "Total tweets in file: 1600000\n"
     ]
    },
    {
     "data": {
      "text/plain": [
       "dataSchema = StructType(StructField(target,IntegerType,true), StructField(id,LongType,true), StructField(raw_timestamp,StringType,true), StructField(query_status,StringType,true), StructField(author,StringType,true), StructField(tweet,StringType,true))\n",
       "dataPath = /home/jovyan/data/training.1600000.processed.noemoticon.csv\n",
       "raw_sentiment = [tweet: string]\n"
      ]
     },
     "metadata": {},
     "output_type": "display_data"
    },
    {
     "data": {
      "text/plain": [
       "[tweet: string]"
      ]
     },
     "execution_count": 5,
     "metadata": {},
     "output_type": "execute_result"
    }
   ],
   "source": [
    "import org.apache.spark.sql.types.{StructType, StructField, IntegerType, LongType, StringType}\n",
    "\n",
    "val dataSchema = new StructType()\n",
    "    .add(\"target\", IntegerType)\n",
    "    .add(\"id\", LongType)\n",
    "    .add(\"raw_timestamp\", StringType)\n",
    "    .add(\"query_status\", StringType)\n",
    "    .add(\"author\", StringType)\n",
    "    .add(\"tweet\", StringType)\n",
    "\n",
    "    \n",
    "val dataPath= \"/home/jovyan/data/training.1600000.processed.noemoticon.csv\"\n",
    "\n",
    "val raw_sentiment = spark.read\n",
    "    .format(\"csv\")\n",
    "    .option(\"header\",false)\n",
    "    .schema(dataSchema)\n",
    "    .load(dataPath)\n",
    "    .selectExpr(\"tweet\")\n",
    "\n",
    "println(s\"Total tweets in file: ${raw_sentiment.count}\")\n"
   ]
  },
  {
   "cell_type": "code",
   "execution_count": 10,
   "metadata": {},
   "outputs": [
    {
     "name": "stdout",
     "output_type": "stream",
     "text": [
      "Streaming started!\n"
     ]
    },
    {
     "data": {
      "text/plain": [
       "timer = java.util.Timer@327ddf28\n",
       "task = $anon$1@1428c503\n"
      ]
     },
     "metadata": {},
     "output_type": "display_data"
    },
    {
     "data": {
      "text/plain": [
       "$anon$1@1428c503"
      ]
     },
     "execution_count": 10,
     "metadata": {},
     "output_type": "execute_result"
    },
    {
     "name": "stdout",
     "output_type": "stream",
     "text": [
      "2019-08-21T17:23:27.138Z - saved some data to the events stream!\n",
      "2019-08-21T17:23:30.292Z - saved some data to the events stream!\n",
      "2019-08-21T17:23:33.389Z - saved some data to the events stream!\n",
      "2019-08-21T17:23:36.602Z - saved some data to the events stream!\n",
      "2019-08-21T17:23:39.835Z - saved some data to the events stream!\n",
      "2019-08-21T17:23:43.018Z - saved some data to the events stream!\n",
      "2019-08-21T17:23:46.224Z - saved some data to the events stream!\n",
      "2019-08-21T17:23:49.422Z - saved some data to the events stream!\n",
      "2019-08-21T17:23:53.088Z - saved some data to the events stream!\n",
      "2019-08-21T17:23:56.721Z - saved some data to the events stream!\n",
      "2019-08-21T17:24:01.058Z - saved some data to the events stream!\n",
      "2019-08-21T17:24:05.302Z - saved some data to the events stream!\n",
      "2019-08-21T17:24:08.911Z - saved some data to the events stream!\n",
      "2019-08-21T17:24:12.080Z - saved some data to the events stream!\n",
      "2019-08-21T17:24:15.324Z - saved some data to the events stream!\n",
      "2019-08-21T17:24:18.649Z - saved some data to the events stream!\n",
      "2019-08-21T17:24:21.853Z - saved some data to the events stream!\n",
      "2019-08-21T17:24:25.684Z - saved some data to the events stream!\n",
      "2019-08-21T17:24:29.028Z - saved some data to the events stream!\n",
      "2019-08-21T17:24:32.301Z - saved some data to the events stream!\n",
      "2019-08-21T17:24:35.465Z - saved some data to the events stream!\n",
      "2019-08-21T17:24:38.683Z - saved some data to the events stream!\n",
      "2019-08-21T17:24:41.880Z - saved some data to the events stream!\n",
      "2019-08-21T17:24:45.121Z - saved some data to the events stream!\n",
      "2019-08-21T17:24:48.361Z - saved some data to the events stream!\n",
      "2019-08-21T17:24:51.558Z - saved some data to the events stream!\n",
      "2019-08-21T17:24:54.676Z - saved some data to the events stream!\n",
      "2019-08-21T17:24:57.843Z - saved some data to the events stream!\n",
      "2019-08-21T17:25:01.038Z - saved some data to the events stream!\n",
      "2019-08-21T17:25:04.243Z - saved some data to the events stream!\n",
      "2019-08-21T17:25:07.377Z - saved some data to the events stream!\n",
      "2019-08-21T17:25:10.536Z - saved some data to the events stream!\n",
      "2019-08-21T17:25:13.706Z - saved some data to the events stream!\n",
      "2019-08-21T17:25:16.851Z - saved some data to the events stream!\n",
      "2019-08-21T17:25:19.997Z - saved some data to the events stream!\n",
      "2019-08-21T17:25:23.157Z - saved some data to the events stream!\n",
      "2019-08-21T17:25:26.559Z - saved some data to the events stream!\n",
      "2019-08-21T17:25:29.776Z - saved some data to the events stream!\n",
      "2019-08-21T17:25:32.891Z - saved some data to the events stream!\n",
      "2019-08-21T17:25:36.012Z - saved some data to the events stream!\n",
      "2019-08-21T17:25:39.192Z - saved some data to the events stream!\n",
      "2019-08-21T17:25:42.384Z - saved some data to the events stream!\n",
      "2019-08-21T17:25:45.552Z - saved some data to the events stream!\n",
      "2019-08-21T17:25:48.668Z - saved some data to the events stream!\n",
      "2019-08-21T17:25:51.927Z - saved some data to the events stream!\n",
      "2019-08-21T17:25:55.034Z - saved some data to the events stream!\n",
      "2019-08-21T17:25:58.141Z - saved some data to the events stream!\n",
      "2019-08-21T17:26:01.652Z - saved some data to the events stream!\n",
      "2019-08-21T17:26:04.854Z - saved some data to the events stream!\n",
      "2019-08-21T17:26:08.494Z - saved some data to the events stream!\n",
      "2019-08-21T17:26:11.709Z - saved some data to the events stream!\n",
      "2019-08-21T17:26:14.916Z - saved some data to the events stream!\n",
      "2019-08-21T17:26:18.312Z - saved some data to the events stream!\n",
      "2019-08-21T17:26:21.882Z - saved some data to the events stream!\n",
      "2019-08-21T17:26:25.833Z - saved some data to the events stream!\n",
      "2019-08-21T17:26:30.008Z - saved some data to the events stream!\n",
      "2019-08-21T17:26:34.279Z - saved some data to the events stream!\n",
      "2019-08-21T17:26:38.027Z - saved some data to the events stream!\n",
      "2019-08-21T17:26:41.239Z - saved some data to the events stream!\n",
      "2019-08-21T17:26:44.479Z - saved some data to the events stream!\n",
      "2019-08-21T17:26:47.672Z - saved some data to the events stream!\n",
      "2019-08-21T17:26:50.955Z - saved some data to the events stream!\n",
      "2019-08-21T17:26:54.163Z - saved some data to the events stream!\n",
      "2019-08-21T17:26:57.337Z - saved some data to the events stream!\n",
      "2019-08-21T17:27:00.532Z - saved some data to the events stream!\n",
      "2019-08-21T17:27:03.731Z - saved some data to the events stream!\n",
      "2019-08-21T17:27:06.889Z - saved some data to the events stream!\n",
      "2019-08-21T17:27:10.099Z - saved some data to the events stream!\n",
      "2019-08-21T17:27:13.320Z - saved some data to the events stream!\n",
      "2019-08-21T17:27:16.591Z - saved some data to the events stream!\n",
      "2019-08-21T17:27:19.727Z - saved some data to the events stream!\n",
      "2019-08-21T17:27:22.898Z - saved some data to the events stream!\n",
      "2019-08-21T17:27:26.136Z - saved some data to the events stream!\n",
      "2019-08-21T17:27:30.279Z - saved some data to the events stream!\n",
      "2019-08-21T17:27:34.132Z - saved some data to the events stream!\n",
      "2019-08-21T17:27:37.313Z - saved some data to the events stream!\n",
      "2019-08-21T17:27:40.608Z - saved some data to the events stream!\n",
      "2019-08-21T17:27:43.846Z - saved some data to the events stream!\n",
      "2019-08-21T17:27:47.144Z - saved some data to the events stream!\n",
      "2019-08-21T17:27:50.371Z - saved some data to the events stream!\n",
      "2019-08-21T17:27:53.596Z - saved some data to the events stream!\n",
      "2019-08-21T17:27:56.718Z - saved some data to the events stream!\n",
      "2019-08-21T17:27:59.859Z - saved some data to the events stream!\n",
      "2019-08-21T17:28:03.126Z - saved some data to the events stream!\n",
      "2019-08-21T17:28:06.357Z - saved some data to the events stream!\n",
      "2019-08-21T17:28:09.684Z - saved some data to the events stream!\n",
      "2019-08-21T17:28:12.954Z - saved some data to the events stream!\n",
      "2019-08-21T17:28:16.183Z - saved some data to the events stream!\n",
      "2019-08-21T17:28:19.371Z - saved some data to the events stream!\n",
      "2019-08-21T17:28:22.503Z - saved some data to the events stream!\n",
      "2019-08-21T17:28:25.633Z - saved some data to the events stream!\n",
      "2019-08-21T17:28:28.834Z - saved some data to the events stream!\n",
      "2019-08-21T17:28:32.041Z - saved some data to the events stream!\n",
      "2019-08-21T17:28:35.386Z - saved some data to the events stream!\n",
      "2019-08-21T17:28:38.705Z - saved some data to the events stream!\n",
      "2019-08-21T17:28:41.873Z - saved some data to the events stream!\n",
      "2019-08-21T17:28:45.162Z - saved some data to the events stream!\n",
      "2019-08-21T17:28:48.406Z - saved some data to the events stream!\n",
      "2019-08-21T17:28:51.597Z - saved some data to the events stream!\n",
      "2019-08-21T17:28:54.853Z - saved some data to the events stream!\n",
      "2019-08-21T17:28:58.065Z - saved some data to the events stream!\n",
      "2019-08-21T17:29:01.214Z - saved some data to the events stream!\n",
      "2019-08-21T17:29:04.339Z - saved some data to the events stream!\n",
      "2019-08-21T17:29:07.511Z - saved some data to the events stream!\n",
      "2019-08-21T17:29:10.661Z - saved some data to the events stream!\n",
      "2019-08-21T17:29:13.802Z - saved some data to the events stream!\n",
      "2019-08-21T17:29:17.037Z - saved some data to the events stream!\n",
      "2019-08-21T17:29:20.177Z - saved some data to the events stream!\n",
      "2019-08-21T17:29:23.660Z - saved some data to the events stream!\n",
      "2019-08-21T17:29:26.921Z - saved some data to the events stream!\n",
      "2019-08-21T17:29:30.056Z - saved some data to the events stream!\n",
      "2019-08-21T17:29:33.237Z - saved some data to the events stream!\n",
      "2019-08-21T17:29:36.425Z - saved some data to the events stream!\n",
      "2019-08-21T17:29:39.529Z - saved some data to the events stream!\n",
      "2019-08-21T17:29:43.169Z - saved some data to the events stream!\n",
      "2019-08-21T17:29:47.133Z - saved some data to the events stream!\n",
      "2019-08-21T17:29:50.998Z - saved some data to the events stream!\n",
      "2019-08-21T17:29:54.490Z - saved some data to the events stream!\n",
      "2019-08-21T17:29:58.009Z - saved some data to the events stream!\n",
      "2019-08-21T17:30:01.941Z - saved some data to the events stream!\n",
      "2019-08-21T17:30:05.540Z - saved some data to the events stream!\n",
      "2019-08-21T17:30:09.404Z - saved some data to the events stream!\n",
      "2019-08-21T17:30:13.412Z - saved some data to the events stream!\n",
      "2019-08-21T17:30:17.949Z - saved some data to the events stream!\n",
      "2019-08-21T17:30:21.776Z - saved some data to the events stream!\n"
     ]
    }
   ],
   "source": [
    "import java.util.{Calendar, Timer, TimerTask}\n",
    "\n",
    "val timer = new Timer()\n",
    "\n",
    "val task = new TimerTask {\n",
    "  def run(): Unit = {\n",
    "      val data = raw_sentiment.sample(fraction=0.00001,withReplacement=true)\n",
    "      data.coalesce(1).write.format(\"json\").mode(\"append\").save(\"/home/jovyan/data/events-stream\")\n",
    "      println(s\"${Calendar.getInstance().toInstant} - saved some data to the events stream!\")\n",
    "  } \n",
    "}\n",
    "\n",
    "println(\"Streaming started!\")\n",
    "\n",
    "timer.schedule(task, 1000L, 1000L)"
   ]
  },
  {
   "cell_type": "code",
   "execution_count": 11,
   "metadata": {},
   "outputs": [
    {
     "data": {
      "text/plain": [
       "true"
      ]
     },
     "execution_count": 11,
     "metadata": {},
     "output_type": "execute_result"
    }
   ],
   "source": [
    "task.cancel()"
   ]
  },
  {
   "cell_type": "code",
   "execution_count": null,
   "metadata": {},
   "outputs": [],
   "source": []
  }
 ],
 "metadata": {
  "kernelspec": {
   "display_name": "Apache Toree - Scala",
   "language": "scala",
   "name": "apache_toree_scala"
  },
  "language_info": {
   "codemirror_mode": "text/x-scala",
   "file_extension": ".scala",
   "mimetype": "text/x-scala",
   "name": "scala",
   "pygments_lexer": "scala",
   "version": "2.11.12"
  }
 },
 "nbformat": 4,
 "nbformat_minor": 2
}
